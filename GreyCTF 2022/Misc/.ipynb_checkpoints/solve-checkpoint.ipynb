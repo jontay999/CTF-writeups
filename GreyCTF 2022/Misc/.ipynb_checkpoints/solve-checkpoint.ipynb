{
 "cells": [
  {
   "cell_type": "code",
   "execution_count": 3,
   "id": "25425404",
   "metadata": {},
   "outputs": [],
   "source": [
    "import matplotlib.pyplot as plt\n",
    "plt.style.use('seaborn-whitegrid')\n",
    "import numpy as np\n",
    "from scipy.stats import skew\n",
    "\n",
    "# nc challs.nusgreyhats.org 10528"
   ]
  },
  {
   "cell_type": "code",
   "execution_count": 4,
   "id": "54f7cb91",
   "metadata": {},
   "outputs": [],
   "source": [
    "with open('data.txt', 'r') as f:\n",
    "    data = list(map(float,f.read().strip().split(',')))"
   ]
  },
  {
   "cell_type": "code",
   "execution_count": 6,
   "id": "b7e19fd1",
   "metadata": {},
   "outputs": [
    {
     "data": {
      "image/png": "[encoded data removed]",
      "text/plain": [
       "<Figure size 432x288 with 1 Axes>"
      ]
     },
     "metadata": {},
     "output_type": "display_data"
    }
   ],
   "source": [
    "data = sorted(data)\n",
    "plt.plot(data)\n",
    "plt.show()"
   ]
  },
  {
   "cell_type": "code",
   "execution_count": 27,
   "id": "bb11233b",
   "metadata": {},
   "outputs": [
    {
     "name": "stdout",
     "output_type": "stream",
     "text": [
      "Skews:\n",
      "0.16763283733398612\n",
      "-0.05965346523783616\n",
      "-0.078910678035794\n",
      "Means:\n",
      "-12.338427064508235\n",
      "1.957759288444758\n",
      "15.138693435527596\n"
     ]
    }
   ],
   "source": [
    "d = [[] for _ in range(3)]\n",
    "for i in data:\n",
    "    if(i <= -9.24):d[0].append(i)\n",
    "    elif (i <=5 ): d[1].append(i)\n",
    "    else: d[2].append(i)\n",
    "\n",
    "print(\"Skews:\")\n",
    "for i in d:\n",
    "    print(skew(i))\n",
    "    \n",
    "print(\"Means:\")\n",
    "for i in d:\n",
    "    print(sum(i)/ len(i))\n",
    "\n",
    "#Means:\n",
    "# -12.338427064508235\n",
    "# 1.957759288444758\n",
    "# 15.138693435527596\n",
    "# grey{3m_iS_bL4cK_mAg1C}"
   ]
  },
  {
   "cell_type": "code",
   "execution_count": null,
   "id": "1ff6aff5",
   "metadata": {},
   "outputs": [],
   "source": []
  }
 ],
 "metadata": {
  "kernelspec": {
   "display_name": "Python 3 (ipykernel)",
   "language": "python",
   "name": "python3"
  },
  "language_info": {
   "codemirror_mode": {
    "name": "ipython",
    "version": 3
   },
   "file_extension": ".py",
   "mimetype": "text/x-python",
   "name": "python",
   "nbconvert_exporter": "python",
   "pygments_lexer": "ipython3",
   "version": "3.9.12"
  }
 },
 "nbformat": 4,
 "nbformat_minor": 5
}
