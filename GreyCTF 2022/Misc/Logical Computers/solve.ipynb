{
 "cells": [
  {
   "cell_type": "code",
   "execution_count": 14,
   "id": "7b4d19a5",
   "metadata": {},
   "outputs": [],
   "source": [
    "import torch\n",
    "\n",
    "def tensorize(s : str) -> torch.Tensor:\n",
    "  return torch.Tensor([(1 if (ch >> i) & 1 == 1 else -1) for ch in list(map(ord, s)) for i in range(8)])\n",
    "\n",
    "class NeuralNetwork(torch.nn.Module):\n",
    "  def __init__(self, in_dimension, mid_dimension, out_dimension=1):\n",
    "    super(NeuralNetwork, self).__init__()\n",
    "    self.layer1 = torch.nn.Linear(in_dimension, mid_dimension)\n",
    "    self.layer2 = torch.nn.Linear(mid_dimension, out_dimension)\n",
    "\n",
    "  def step_activation(self, x : torch.Tensor) -> torch.Tensor:\n",
    "    x[x <= 0] = -1\n",
    "    x[x >  0] = 1\n",
    "    return x\n",
    "\n",
    "  def forward(self, x : torch.Tensor) -> int:\n",
    "    x = self.layer1(x)\n",
    "    x = self.step_activation(x)\n",
    "    x = self.layer2(x)\n",
    "    res = int(x)\n",
    "    x = self.step_activation(x)\n",
    "    return int(x), res"
   ]
  },
  {
   "cell_type": "code",
   "execution_count": 15,
   "id": "784dc27c",
   "metadata": {},
   "outputs": [
    {
     "data": {
      "text/plain": [
       "<All keys matched successfully>"
      ]
     },
     "execution_count": 15,
     "metadata": {},
     "output_type": "execute_result"
    }
   ],
   "source": [
    "guess = 'grey{' + 'a'* 14 + '}'\n",
    "in_data = tensorize(guess)\n",
    "in_dim\t= len(in_data)\n",
    "\n",
    "model = NeuralNetwork(in_dim, 1280)\n",
    "model.load_state_dict(torch.load(\"model.pth\"))"
   ]
  },
  {
   "cell_type": "code",
   "execution_count": 65,
   "id": "7d8ea1c4",
   "metadata": {},
   "outputs": [
    {
     "name": "stdout",
     "output_type": "stream",
     "text": [
      "Round 1:\n",
      "\n",
      "}\n",
      "}}\n",
      "}}}\n",
      "}}}}\n",
      "}}}}}\n",
      "}}}}}}\n",
      "}}}}}}}\n",
      "}}}}}}}}\n",
      "}}}}}}}}}\n",
      "}}}}}}}}}}\n",
      "}}}}}}}}}}}\n",
      "}}}}}}}}}}}}\n",
      "}}}}}}}}}}}}}\n",
      "}}}}}}}}}}}}}}\n",
      "\n",
      "Round 2 :\n",
      "\n",
      "['g', 'r', 'e', 'y', '{', '}', '}', '}', '}', '}', '}', '}', '}', '}', '}', '}', '}', '}', '}', '}']\n",
      "g\n",
      "gr\n",
      "gre\n",
      "grey\n",
      "grey{\n",
      "grey{s\n",
      "grey{sM\n",
      "grey{sM0\n",
      "grey{sM0r\n",
      "grey{sM0rT\n",
      "grey{sM0rT_\n",
      "grey{sM0rT_m\n",
      "grey{sM0rT_mA\n",
      "grey{sM0rT_mAc\n",
      "grey{sM0rT_mAch\n",
      "grey{sM0rT_mAch1\n",
      "grey{sM0rT_mAch1n\n",
      "grey{sM0rT_mAch1nE\n",
      "grey{sM0rT_mAch1nE5\n",
      "grey{sM0rT_mAch1nE5}\n"
     ]
    }
   ],
   "source": [
    "import string\n",
    "alphabet = list(string.printable)\n",
    "flag = ''\n",
    "\n",
    "print(\"Round 1:\\n\")\n",
    "\n",
    "length = 13\n",
    "for j in range(length+1):\n",
    "    for i in alphabet:\n",
    "        guess = 'grey{' + flag + i +  'a'* (length - len(flag)) + '}'\n",
    "        assert len(guess) == 20\n",
    "        tensor = tensorize(guess)\n",
    "        preds = model(tensor)\n",
    "        arr.append((preds[1], i))\n",
    "    arr = sorted(arr, reverse=True)[:6]\n",
    "    flag += arr[0][1]\n",
    "    print(flag)\n",
    "\n",
    "print(\"\\nRound 2 :\\n\")\n",
    "\n",
    "\n",
    "guess = list('grey{' + flag + '}')\n",
    "\n",
    "print(guess)\n",
    "flag = ''\n",
    "\n",
    "for j in range(len(guess)):\n",
    "    arr = []\n",
    "    temp = guess[:]\n",
    "    for i in alphabet:\n",
    "        temp[j] = i\n",
    "        new_guess = ''.join(temp)\n",
    "        tensor = tensorize(new_guess)\n",
    "        preds = model(tensor)\n",
    "        arr.append((preds[1], i))\n",
    "    arr = sorted(arr, reverse=True)[:6]\n",
    "    flag += arr[0][1]\n",
    "    print(flag)\n",
    "\n"
   ]
  }
 ],
 "metadata": {
  "kernelspec": {
   "display_name": "Python 3 (ipykernel)",
   "language": "python",
   "name": "python3"
  },
  "language_info": {
   "codemirror_mode": {
    "name": "ipython",
    "version": 3
   },
   "file_extension": ".py",
   "mimetype": "text/x-python",
   "name": "python",
   "nbconvert_exporter": "python",
   "pygments_lexer": "ipython3",
   "version": "3.9.12"
  }
 },
 "nbformat": 4,
 "nbformat_minor": 5
}
