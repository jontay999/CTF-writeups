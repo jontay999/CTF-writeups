{
 "cells": [
  {
   "cell_type": "markdown",
   "id": "183bc4c7",
   "metadata": {},
   "source": [
    "# Finals: Rev - Oneliner (676)\n",
    "\n",
    "## Challenge\n",
    "We are given a `oneliner` file, which is digustingly long (9.4Mb) and is just an elaborate flag checker made out of many `if else` statements\n",
    "\n",
    "I figured that the proper way would be to actually write a parser to simplify the whole thing, but I was extremely lazy (and unproficient in dealing with ASTs) so I ended up taking a longer? and rather silly method."
   ]
  },
  {
   "cell_type": "markdown",
   "id": "16455d36",
   "metadata": {},
   "source": [
    "`re` gives us the regex we need to find relevant indexes of our flag.\n",
    "\n",
    "I also renamed it from a `.py` file to `.txt` file otherwise my linter will try and fail miserably at syntax highlihgting"
   ]
  },
  {
   "cell_type": "code",
   "execution_count": 1,
   "id": "95da4dd1",
   "metadata": {
    "vscode": {
     "languageId": "python"
    }
   },
   "outputs": [],
   "source": [
    "import re\n",
    "\n",
    "with open('oneliner.txt', 'r') as f:\n",
    "    data = f.read()"
   ]
  },
  {
   "cell_type": "markdown",
   "id": "29c4eca5",
   "metadata": {},
   "source": [
    "So the idea is that we know the flag format is `grey{...}`. \n",
    "Checking for `data.index(\"grey[18] == \")` gives an error, so we know the flag is 18 characters long.\n",
    "\n",
    "Hence all the relevant code must be within the indices where `grey[0] == 'g'` and `grey[17] == '}'`"
   ]
  },
  {
   "cell_type": "code",
   "execution_count": 3,
   "id": "62ecd417",
   "metadata": {
    "vscode": {
     "languageId": "python"
    }
   },
   "outputs": [
    {
     "name": "stdout",
     "output_type": "stream",
     "text": [
      "Character 1 is at index 3556462\n",
      "Character 2 is at index 5054729\n",
      "Character 3 is at index 5054750\n",
      "Character 4 is at index 5056863\n",
      "Character 5 is at index 5244326\n",
      "Ending index: 7207432\n"
     ]
    }
   ],
   "source": [
    "i1 = data.index(\"grey[0] == 'g'\")\n",
    "i2 = data.index(\"grey[1] == 'r'\")\n",
    "i3 = data.index(\"grey[2] == 'e'\")\n",
    "i4 = data.index(\"grey[3] == 'y'\")\n",
    "i5 = data.index(\"grey[4] == '{'\")\n",
    "e1 = data.index(\"grey[17] == '}'\")\n",
    "starts = [i1,i2,i3,i4,i5]\n",
    "for i in range(5):\n",
    "    print(f\"Character {i+1} is at index {starts[i]}\")\n",
    "\n",
    "print(\"Ending index:\", e1)"
   ]
  },
  {
   "cell_type": "markdown",
   "id": "772916c0",
   "metadata": {},
   "source": [
    "So we only need to look at the indices within character 5 and the last character. I added some buffer just for fun"
   ]
  },
  {
   "cell_type": "code",
   "execution_count": 5,
   "id": "f354df75",
   "metadata": {
    "vscode": {
     "languageId": "python"
    }
   },
   "outputs": [],
   "source": [
    "relevant = data[5244326-15: 7207432+15]"
   ]
  },
  {
   "cell_type": "markdown",
   "id": "af43279c",
   "metadata": {},
   "source": [
    "Now for some professional flag guessing and elimination, using an extremely inefficient search method, we only have 3 options, and one of those is not like the others. \n",
    "\n",
    "Hence select `q` with extreme confidence"
   ]
  },
  {
   "cell_type": "code",
   "execution_count": 6,
   "id": "3a17d898",
   "metadata": {
    "vscode": {
     "languageId": "python"
    }
   },
   "outputs": [
    {
     "name": "stdout",
     "output_type": "stream",
     "text": [
      "grey[5] == 'T') 36\n",
      "grey[5] == 'F') 13550\n",
      "grey[5] == 'q') 690257\n"
     ]
    }
   ],
   "source": [
    "index_5 = [i for i in range(len(relevant)) if relevant.startswith('grey[5] == ', i)]\n",
    "for i in index_5:\n",
    "    print(relevant[i:i+15], i)"
   ]
  },
  {
   "cell_type": "markdown",
   "id": "bf9fd7c2",
   "metadata": {},
   "source": [
    "Repeat the same method. Now `q` is a hard character to match after, so its definitely `u`"
   ]
  },
  {
   "cell_type": "code",
   "execution_count": 8,
   "id": "331183e4",
   "metadata": {
    "scrolled": true,
    "vscode": {
     "languageId": "python"
    }
   },
   "outputs": [
    {
     "name": "stdout",
     "output_type": "stream",
     "text": [
      "grey[6] == 'j') 57\n",
      "grey[6] == 'h') 3304\n",
      "grey[6] == 'n') 13085\n",
      "grey[6] == 't') 13571\n",
      "grey[6] == 'O') 48340\n",
      "grey[6] == 'H') 51037\n",
      "grey[6] == 'S') 125535\n",
      "grey[6] == 'g') 688547\n",
      "grey[6] == 'D') 689789\n",
      "grey[6] == 'H') 690278\n",
      "grey[6] == 'Y') 956587\n",
      "grey[6] == 'u') 957191\n"
     ]
    }
   ],
   "source": [
    "index_6 = [i for i in range(len(relevant)) if relevant.startswith('grey[6] == ', i)]\n",
    "for i in index_6:\n",
    "    print(relevant[i:i+15], i)\n",
    "#select u"
   ]
  },
  {
   "cell_type": "markdown",
   "id": "3268ae59",
   "metadata": {},
   "source": [
    "Now the train of thought is, we have `qu`, the next letter has to be a vowel like `i,o,e,a`. However, looking at the index of `u` previously, we can cross out all options that come before that index, so we're left with options `u,i`. Because there's still like hundred thousand more characters to go through, I select `i` simply because its the largest index, allowing me to eliminate more options "
   ]
  },
  {
   "cell_type": "code",
   "execution_count": 29,
   "id": "d88c17f0",
   "metadata": {
    "scrolled": true,
    "vscode": {
     "languageId": "python"
    }
   },
   "outputs": [
    {
     "name": "stdout",
     "output_type": "stream",
     "text": [
      "grey[7] == 'f') 78\n",
      "grey[7] == 'C') 2506\n",
      "grey[7] == 'R') 3325\n",
      "grey[7] == 'a') 3737\n",
      "grey[7] == 'e') 7263\n",
      "grey[7] == 'W') 13106\n",
      "grey[7] == 'M') 13592\n",
      "grey[7] == 'E') 17874\n",
      "grey[7] == 's') 29605\n",
      "grey[7] == 'P') 34154\n",
      "grey[7] == 'K') 48361\n",
      "grey[7] == 'T') 49829\n",
      "grey[7] == 'D') 50612\n",
      "grey[7] == 'y') 51058\n",
      "grey[7] == 's') 78531\n",
      "grey[7] == 'u') 78948\n",
      "grey[7] == 'V') 121925\n",
      "grey[7] == 'J') 125556\n",
      "grey[7] == 'P') 170224\n",
      "grey[7] == 'v') 170625\n",
      "grey[7] == 'd') 198012\n",
      "grey[7] == 'G') 294955\n",
      "grey[7] == 'm') 513275\n",
      "grey[7] == 'K') 688568\n",
      "grey[7] == 'L') 689367\n",
      "grey[7] == 'p') 689810\n",
      "grey[7] == 'p') 690299\n",
      "grey[7] == 'H') 734082\n",
      "grey[7] == 'a') 747946\n",
      "grey[7] == 'j') 824589\n",
      "grey[7] == 'k') 845586\n",
      "grey[7] == 'j') 919665\n",
      "grey[7] == 'X') 956608\n",
      "grey[7] == 'V') 957212\n",
      "grey[7] == 'e') 957631\n",
      "grey[7] == 'w') 1240460\n",
      "grey[7] == 'z') 1268712\n",
      "grey[7] == 'i') 1276678\n"
     ]
    }
   ],
   "source": [
    "index_7 = [i for i in range(len(relevant)) if relevant.startswith('grey[7] == ', i)]\n",
    "for i in index_7:\n",
    "    print(relevant[i:i+15], i)\n",
    "#select i"
   ]
  },
  {
   "cell_type": "markdown",
   "id": "7550ea0f",
   "metadata": {},
   "source": [
    "Now let's shorten the search space with the indices we have"
   ]
  },
  {
   "cell_type": "code",
   "execution_count": 10,
   "id": "80818582",
   "metadata": {
    "vscode": {
     "languageId": "python"
    }
   },
   "outputs": [],
   "source": [
    "shorten1 = relevant[1276678:]"
   ]
  },
  {
   "cell_type": "markdown",
   "id": "dd74f7b4",
   "metadata": {},
   "source": [
    "Now, there's only 1 logical option here, because I largely doubt the first word is like `quibble` or any nonsense like that. So select `t`"
   ]
  },
  {
   "cell_type": "code",
   "execution_count": 12,
   "id": "ce6b7b7e",
   "metadata": {
    "scrolled": true,
    "vscode": {
     "languageId": "python"
    }
   },
   "outputs": [
    {
     "name": "stdout",
     "output_type": "stream",
     "text": [
      "grey[8] == 'o') 21\n",
      "grey[8] == 'D') 3526\n",
      "grey[8] == 'b') 6824\n",
      "grey[8] == 't') 306358\n"
     ]
    }
   ],
   "source": [
    "index_8 = [i for i in range(len(shorten1)) if shorten1.startswith('grey[8] == ', i)]\n",
    "for i in index_8:\n",
    "    print(shorten1[i:i+15], i)\n",
    "#select t"
   ]
  },
  {
   "cell_type": "markdown",
   "id": "14bf6174",
   "metadata": {},
   "source": [
    "Now there's only one logical option here given our \"known\" (lol) prefix of `quit`, so we guess `e` and hope we have a full word"
   ]
  },
  {
   "cell_type": "code",
   "execution_count": 14,
   "id": "265f7c88",
   "metadata": {
    "scrolled": true,
    "vscode": {
     "languageId": "python"
    }
   },
   "outputs": [
    {
     "name": "stdout",
     "output_type": "stream",
     "text": [
      "grey[9] == 'b') 42\n",
      "grey[9] == 'i') 380\n",
      "grey[9] == 'c') 3547\n",
      "grey[9] == 'D') 5429\n",
      "grey[9] == 'Q') 6483\n",
      "grey[9] == 'p') 6845\n",
      "grey[9] == 'B') 10033\n",
      "grey[9] == 'g') 96201\n",
      "grey[9] == 'Q') 271987\n",
      "grey[9] == 'n') 300291\n",
      "grey[9] == 'h') 301612\n",
      "grey[9] == 'E') 306379\n",
      "grey[9] == 'g') 307032\n",
      "grey[9] == 'z') 552617\n",
      "grey[9] == 'O') 571360\n",
      "grey[9] == 'z') 575247\n",
      "grey[9] == 'e') 647477\n"
     ]
    }
   ],
   "source": [
    "index_9 = [i for i in range(len(shorten1)) if shorten1.startswith('grey[9] == ', i)]\n",
    "for i in index_9:\n",
    "    print(shorten1[i:i+15], i)\n",
    "#select e"
   ]
  },
  {
   "cell_type": "markdown",
   "id": "1136e548",
   "metadata": {},
   "source": [
    "Okay good job, let's shorten our search space more with extreme confidence"
   ]
  },
  {
   "cell_type": "code",
   "execution_count": 16,
   "id": "23ad39c4",
   "metadata": {
    "scrolled": true
   },
   "outputs": [
    {
     "data": {
      "text/plain": [
       "380079"
      ]
     },
     "execution_count": 16,
     "metadata": {},
     "output_type": "execute_result"
    }
   ],
   "source": [
    "shorten2 = shorten1[306379:]\n",
    "len(shorten2)"
   ]
  },
  {
   "cell_type": "markdown",
   "id": "c27c7237",
   "metadata": {},
   "source": [
    "Okay not bad, 380k more characters to go.\n",
    "\n",
    "Now it's clear one of these characters are not like the others, could this be a word separator?\n",
    "Select the `_` for confirmation bias of good decisions made so far (believe it or not, this was my actual train of thought)"
   ]
  },
  {
   "cell_type": "code",
   "execution_count": 17,
   "id": "a7a986b3",
   "metadata": {
    "scrolled": true,
    "vscode": {
     "languageId": "python"
    }
   },
   "outputs": [
    {
     "name": "stdout",
     "output_type": "stream",
     "text": [
      "grey[10] == 'U' 21\n",
      "grey[10] == 'J' 334\n",
      "grey[10] == 'A' 674\n",
      "grey[10] == 'd' 99970\n",
      "grey[10] == 'd' 203249\n",
      "grey[10] == 'B' 218666\n",
      "grey[10] == 'P' 218963\n",
      "grey[10] == 'm' 220124\n",
      "grey[10] == 'e' 246259\n",
      "grey[10] == 'M' 248918\n",
      "grey[10] == 'd' 260153\n",
      "grey[10] == 'd' 265002\n",
      "grey[10] == 'g' 266180\n",
      "grey[10] == 'Z' 267416\n",
      "grey[10] == 'L' 268889\n",
      "grey[10] == 'M' 269194\n",
      "grey[10] == 'V' 286254\n",
      "grey[10] == 'o' 287067\n",
      "grey[10] == 'H' 289883\n",
      "grey[10] == 'l' 340782\n",
      "grey[10] == 'T' 341119\n",
      "grey[10] == '_' 341426\n"
     ]
    }
   ],
   "source": [
    "index_10 = [i for i in range(len(shorten2)) if shorten2.startswith('grey[10] == ', i)]\n",
    "for i in index_10:\n",
    "    print(shorten2[i:i+15], i)\n",
    "#select _"
   ]
  },
  {
   "cell_type": "markdown",
   "id": "3ed83f17",
   "metadata": {},
   "source": [
    "Now we can cut down our search space even more, and wow, only 38k characters to go"
   ]
  },
  {
   "cell_type": "code",
   "execution_count": 19,
   "id": "7a18468e",
   "metadata": {
    "scrolled": true
   },
   "outputs": [
    {
     "data": {
      "text/plain": [
       "38653"
      ]
     },
     "execution_count": 19,
     "metadata": {},
     "output_type": "execute_result"
    }
   ],
   "source": [
    "shorten3 = shorten2[341426:]\n",
    "len(shorten3)"
   ]
  },
  {
   "cell_type": "markdown",
   "id": "07f5a14c",
   "metadata": {},
   "source": [
    "Wow that's pretty easy, so now our guess so far is `quite_b`"
   ]
  },
  {
   "cell_type": "code",
   "execution_count": 21,
   "id": "62039bb0",
   "metadata": {
    "scrolled": true,
    "vscode": {
     "languageId": "python"
    }
   },
   "outputs": [
    {
     "name": "stdout",
     "output_type": "stream",
     "text": [
      "grey[11] == 'b' 22\n"
     ]
    }
   ],
   "source": [
    "index_11 = [i for i in range(len(shorten3)) if shorten3.startswith('grey[11] == ', i)]\n",
    "for i in index_11:\n",
    "    print(shorten3[i:i+15], i)"
   ]
  },
  {
   "cell_type": "markdown",
   "id": "6c85c3b0",
   "metadata": {},
   "source": [
    "Hmm, pretty difficult decision here, it could be `o` or `i`. Trust my gut and take the option that narrows down the search space the most. Take `i`"
   ]
  },
  {
   "cell_type": "code",
   "execution_count": 22,
   "id": "4bc7164a",
   "metadata": {
    "scrolled": true,
    "vscode": {
     "languageId": "python"
    }
   },
   "outputs": [
    {
     "name": "stdout",
     "output_type": "stream",
     "text": [
      "grey[12] == 'o' 44\n",
      "grey[12] == 'g' 4669\n",
      "grey[12] == 'k' 18146\n",
      "grey[12] == 'w' 26317\n",
      "grey[12] == 'i' 27655\n"
     ]
    }
   ],
   "source": [
    "index_12 = [i for i in range(len(shorten3)) if shorten3.startswith('grey[12] == ', i)]\n",
    "for i in index_12:\n",
    "    print(shorten3[i:i+15], i)"
   ]
  },
  {
   "cell_type": "markdown",
   "id": "96b50f21",
   "metadata": {},
   "source": [
    "There's been a clear trend of all lowercase characters so I immediately filter those options from my headspace as well as those that occur after the index of `i` (27655). So there are 2 realistic options, `bil` or `big` and I doubt the word is like `bill` or `bilateral` or idk what else it could be. Pray hard that the next index is a `_` to confirm suspicions"
   ]
  },
  {
   "cell_type": "code",
   "execution_count": 24,
   "id": "0ba37ea8",
   "metadata": {
    "scrolled": true,
    "vscode": {
     "languageId": "python"
    }
   },
   "outputs": [
    {
     "name": "stdout",
     "output_type": "stream",
     "text": [
      "grey[13] == 'd' 66\n",
      "grey[13] == 'q' 559\n",
      "grey[13] == 'v' 765\n",
      "grey[13] == 'V' 1785\n",
      "grey[13] == 'F' 4691\n",
      "grey[13] == 'E' 6191\n",
      "grey[13] == 'E' 6386\n",
      "grey[13] == 'A' 14203\n",
      "grey[13] == 'L' 15217\n",
      "grey[13] == 'X' 15414\n",
      "grey[13] == 'N' 18168\n",
      "grey[13] == 'a' 19136\n",
      "grey[13] == 'f' 21426\n",
      "grey[13] == 'm' 21629\n",
      "grey[13] == 'J' 25459\n",
      "grey[13] == 'W' 26339\n",
      "grey[13] == 'i' 26697\n",
      "grey[13] == 'L' 27677\n",
      "grey[13] == 'l' 27871\n",
      "grey[13] == 'G' 28075\n",
      "grey[13] == 'g' 31881\n"
     ]
    }
   ],
   "source": [
    "index_13 = [i for i in range(len(shorten3)) if shorten3.startswith('grey[13] == ', i)]\n",
    "for i in index_13:\n",
    "    print(shorten3[i:i+15], i)"
   ]
  },
  {
   "cell_type": "markdown",
   "id": "500d4244",
   "metadata": {},
   "source": [
    "What do you know, we have a special character show up again, which seems to demarcate our words well. Also take note of the apparrent trend where the selected character is always the last possible option, almost as if once you bypass that area, there's no more need to check that index anymore....hmmm"
   ]
  },
  {
   "cell_type": "code",
   "execution_count": 26,
   "id": "59914707",
   "metadata": {
    "scrolled": false,
    "vscode": {
     "languageId": "python"
    }
   },
   "outputs": [
    {
     "name": "stdout",
     "output_type": "stream",
     "text": [
      "grey[14] == 'v' 88\n",
      "grey[14] == 'k' 248\n",
      "grey[14] == 'd' 581\n",
      "grey[14] == 'N' 787\n",
      "grey[14] == 'n' 1179\n",
      "grey[14] == 's' 1807\n",
      "grey[14] == 'b' 3019\n",
      "grey[14] == 'l' 4128\n",
      "grey[14] == 'Y' 4713\n",
      "grey[14] == 'S' 4861\n",
      "grey[14] == 'I' 5014\n",
      "grey[14] == 'B' 5448\n",
      "grey[14] == 'g' 6213\n",
      "grey[14] == 'O' 6408\n",
      "grey[14] == 'j' 11154\n",
      "grey[14] == 'a' 11307\n",
      "grey[14] == 'I' 13035\n",
      "grey[14] == 'i' 13384\n",
      "grey[14] == 'L' 14225\n",
      "grey[14] == 'C' 14723\n",
      "grey[14] == 's' 14893\n",
      "grey[14] == 'B' 15041\n",
      "grey[14] == 'K' 15239\n",
      "grey[14] == 'd' 15436\n",
      "grey[14] == 'Q' 16366\n",
      "grey[14] == 'G' 16644\n",
      "grey[14] == 't' 16814\n",
      "grey[14] == 'p' 18190\n",
      "grey[14] == 'R' 18652\n",
      "grey[14] == 'T' 19158\n",
      "grey[14] == 's' 19691\n",
      "grey[14] == 'q' 19841\n",
      "grey[14] == 'Z' 21448\n",
      "grey[14] == 'c' 21651\n",
      "grey[14] == 'o' 22328\n",
      "grey[14] == 'X' 23222\n",
      "grey[14] == 'i' 24546\n",
      "grey[14] == 'c' 25481\n",
      "grey[14] == 'f' 25640\n",
      "grey[14] == 'H' 26123\n",
      "grey[14] == 'G' 26361\n",
      "grey[14] == 'f' 26522\n",
      "grey[14] == 't' 26719\n",
      "grey[14] == 'v' 27254\n",
      "grey[14] == 'U' 27699\n",
      "grey[14] == 'F' 27893\n",
      "grey[14] == 's' 28097\n",
      "grey[14] == 'G' 28595\n",
      "grey[14] == 'p' 30994\n",
      "grey[14] == 'T' 31259\n",
      "grey[14] == 'i' 31903\n",
      "grey[14] == 't' 36049\n",
      "grey[14] == 'p' 36361\n",
      "grey[14] == '_' 36514\n"
     ]
    }
   ],
   "source": [
    "index_14 = [i for i in range(len(shorten3)) if shorten3.startswith('grey[14] == ', i)]\n",
    "for i in index_14:\n",
    "    print(shorten3[i:i+15], i)"
   ]
  },
  {
   "cell_type": "markdown",
   "id": "7b241f0e",
   "metadata": {},
   "source": [
    "Shorten the search space, we only have 2 characters left! And 2000 characters left, this is totally doable"
   ]
  },
  {
   "cell_type": "code",
   "execution_count": 29,
   "id": "b06d7660",
   "metadata": {
    "scrolled": true
   },
   "outputs": [
    {
     "data": {
      "text/plain": [
       "2139"
      ]
     },
     "execution_count": 29,
     "metadata": {},
     "output_type": "execute_result"
    }
   ],
   "source": [
    "shorten4 = shorten3[36514:]\n",
    "len(shorten4)"
   ]
  },
  {
   "cell_type": "markdown",
   "id": "76786638",
   "metadata": {},
   "source": [
    "Okay this looks alright, lets see the last character\n",
    "(Hold the thought of the last character theory...)"
   ]
  },
  {
   "cell_type": "code",
   "execution_count": 31,
   "id": "cf3567f5",
   "metadata": {
    "scrolled": false,
    "vscode": {
     "languageId": "python"
    }
   },
   "outputs": [
    {
     "name": "stdout",
     "output_type": "stream",
     "text": [
      "grey[15] == 'w' 22\n",
      "grey[15] == 'N' 1232\n",
      "grey[15] == 'a' 1529\n"
     ]
    }
   ],
   "source": [
    "index_15 = [i for i in range(len(shorten4)) if shorten4.startswith('grey[15] == ', i)]\n",
    "for i in index_15:\n",
    "    print(shorten4[i:i+15], i)"
   ]
  },
  {
   "cell_type": "markdown",
   "id": "e0935557",
   "metadata": {},
   "source": [
    "Well, is this it? We only have one character left at the back which is lowercase as well. The hypothesis of last possible character being the correct one has been  proven"
   ]
  },
  {
   "cell_type": "code",
   "execution_count": 33,
   "id": "86aca343",
   "metadata": {
    "scrolled": true,
    "vscode": {
     "languageId": "python"
    }
   },
   "outputs": [
    {
     "name": "stdout",
     "output_type": "stream",
     "text": [
      "grey[16] == 'M' 44\n",
      "grey[16] == 'Q' 131\n",
      "grey[16] == 'O' 269\n",
      "grey[16] == 'N' 532\n",
      "grey[16] == 'K' 1027\n",
      "grey[16] == 'L' 1254\n",
      "grey[16] == 'D' 1551\n",
      "grey[16] == 'h' 1771\n"
     ]
    }
   ],
   "source": [
    "index_16 = [i for i in range(len(shorten4)) if shorten4.startswith('grey[16] == ', i)]\n",
    "for i in index_16:\n",
    "    print(shorten4[i:i+15], i)"
   ]
  },
  {
   "cell_type": "markdown",
   "id": "7cd48711",
   "metadata": {},
   "source": [
    "Okay, let's take stock of all we have\n",
    "`grey{quite_big_ah}`. Seems right! That was pretty easy"
   ]
  },
  {
   "cell_type": "markdown",
   "id": "7d306089",
   "metadata": {},
   "source": [
    "#### Closing Notes\n",
    "Haiz I wish it was so simple.... I made a fatal mistake during the CTF.  \n",
    "Instead of doing `shorten4 = shorten3[36514:]`, I did `shorten4 = shorten3[:36514]` which gave me a whole bogus set of characters that I subsequently used to brute force the flag (using the extremely slow flag checker). It had a whole bunch of characters except the ones I needed\n",
    "\n",
    "I even went to the extent of doubting my own admittedly guessy first steps, and even started considering upper case characters. I even went to the CSW Scrabble Word List, for a list of valid 2 letter words, list of valid 5 letter words, used `itertools.product` of possible letters, only considering if the `word.upper()` was in the list. Left that running overnight, but my critical aforementioned mistake led to me missing the necessary alphabet to brute force correctly....\n",
    "\n",
    "My guess in the end was `grey{quite_big_no}` which was close but not close enough. Quite a fun challenge to attempt and now I will learn better flag guessing skills for the next CTF"
   ]
  },
  {
   "cell_type": "code",
   "execution_count": null,
   "id": "655a1a4f",
   "metadata": {
    "vscode": {
     "languageId": "python"
    }
   },
   "outputs": [],
   "source": []
  }
 ],
 "metadata": {
  "kernelspec": {
   "display_name": "Python 3 (ipykernel)",
   "language": "python",
   "name": "python3"
  },
  "language_info": {
   "codemirror_mode": {
    "name": "ipython",
    "version": 3
   },
   "file_extension": ".py",
   "mimetype": "text/x-python",
   "name": "python",
   "nbconvert_exporter": "python",
   "pygments_lexer": "ipython3",
   "version": "3.9.13"
  }
 },
 "nbformat": 4,
 "nbformat_minor": 5
}
